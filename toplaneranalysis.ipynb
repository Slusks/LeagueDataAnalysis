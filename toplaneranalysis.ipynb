{
 "cells": [
  {
   "cell_type": "code",
   "execution_count": 11,
   "metadata": {},
   "outputs": [],
   "source": [
    "import pandas as pd\n",
    "pd.option_context('display.max_rows', None, 'display.max_columns', None)\n",
    "import csv\n",
    "import os\n",
    "import pathlib as path\n",
    "import plotly #https://plotly.com/python/getting-started/ /////// pip install plotly"
   ]
  },
  {
   "cell_type": "code",
   "execution_count": 12,
   "metadata": {},
   "outputs": [],
   "source": [
    "\n",
    "toplaner_agg = path.Path(r'F:\\LeagueStats\\scraping\\LeagueDataAnalysis\\workingTables\\TopLaneStats_agg_50games_majorLeague.csv')\n",
    "toplaner_agg_winloss =  path.Path(r'F:\\LeagueStats\\scraping\\LeagueDataAnalysis\\workingTables\\TopLaneStats_agg_Win-Loss_majorLeague.csv')\n",
    "df = pd.read_csv(toplaner_agg)"
   ]
  },
  {
   "cell_type": "code",
   "execution_count": 13,
   "metadata": {},
   "outputs": [
    {
     "data": {
      "text/plain": [
       "Index(['player', 'winPercentage', 'games', 'wins', 'avg(earnedgoldshare)',\n",
       "       'avg(damageshare)', 'avg(total_cs)', 'avg(goldearned)',\n",
       "       'avg(damagetaken)', 'avg(totaldamagetoobjectives)', 'avg(dpm)',\n",
       "       'avg(gamelength)', 'avg(goldat10)', 'avg(xpat10)', 'avg(csat10)',\n",
       "       'avg(opp_goldat10)', 'avg(opp_xpat10)', 'avg(opp_csat10)',\n",
       "       'avg(golddiffat10)', 'avg(xpdiffat10)', 'avg(csdiffat10)',\n",
       "       'avg(goldat15)', 'avg(xpat15)', 'avg(csat15)', 'avg(opp_goldat15)',\n",
       "       'avg(opp_xpat15)', 'avg(opp_csat15)', 'avg(golddiffat15)',\n",
       "       'avg(xpdiffat15)', 'avg(csdiffat15)'],\n",
       "      dtype='object')"
      ]
     },
     "execution_count": 13,
     "metadata": {},
     "output_type": "execute_result"
    }
   ],
   "source": []
  },
  {
   "cell_type": "code",
   "execution_count": null,
   "metadata": {},
   "outputs": [],
   "source": []
  }
 ],
 "metadata": {
  "interpreter": {
   "hash": "2db524e06e9f5f4ffedc911c917cb75e12dbc923643829bf417064a77eb14d37"
  },
  "kernelspec": {
   "display_name": "Python 3.8.3 64-bit (system)",
   "name": "python3"
  },
  "language_info": {
   "codemirror_mode": {
    "name": "ipython",
    "version": 3
   },
   "file_extension": ".py",
   "mimetype": "text/x-python",
   "name": "python",
   "nbconvert_exporter": "python",
   "pygments_lexer": "ipython3",
   "version": "3.8.3"
  },
  "orig_nbformat": 4
 },
 "nbformat": 4,
 "nbformat_minor": 2
}
